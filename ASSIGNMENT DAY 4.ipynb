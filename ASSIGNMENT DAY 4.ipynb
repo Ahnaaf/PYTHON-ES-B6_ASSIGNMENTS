{
 "cells": [
  {
   "cell_type": "markdown",
   "metadata": {},
   "source": [
    "## ASSIGNMENT DAY 4"
   ]
  },
  {
   "cell_type": "markdown",
   "metadata": {},
   "source": [
    "## QUESTION 1"
   ]
  },
  {
   "cell_type": "code",
   "execution_count": 2,
   "metadata": {},
   "outputs": [
    {
     "name": "stdout",
     "output_type": "stream",
     "text": [
      "Enter the sentence:WHAT WE THINK WE BECOME WE ARE PROGRAMMERS|\n",
      "WHAT WE THINK WE BECOME WE ARE PROGRAMMERS|\n",
      "Enter the word: WE\n",
      "The word 'WE' present in 'WHAT WE THINK WE BECOME WE ARE PROGRAMMERS|' as: 1 --> 5 \n",
      "The word 'WE' present in 'WHAT WE THINK WE BECOME WE ARE PROGRAMMERS|' as: 2 --> 14 \n",
      "The word 'WE' present in 'WHAT WE THINK WE BECOME WE ARE PROGRAMMERS|' as: 3 --> 24 \n"
     ]
    }
   ],
   "source": [
    "str1 = input(\"Enter the sentence:\")\n",
    "print(str1)\n",
    "str2 = input(\"Enter the word: \")\n",
    "count = 0\n",
    "for i in range(len(str1)): \n",
    "    if str1.startswith(str2, i):\n",
    "        count=count+1\n",
    "        print(f\"The word '{str2}' present in '{str1}' as: {count} --> {i} \")\n",
    "if count==0:\n",
    "    print(f\"The word '{str2}' is not present in '{str1}'\")"
   ]
  },
  {
   "cell_type": "markdown",
   "metadata": {},
   "source": [
    "## QUESTION 2"
   ]
  },
  {
   "cell_type": "code",
   "execution_count": 1,
   "metadata": {},
   "outputs": [
    {
     "name": "stdout",
     "output_type": "stream",
     "text": [
      "Enter number of strings you want check:5\n",
      "Enter the string##CFD\n",
      "It contains alphabet and numbers\n",
      "The given string is uppercase: True\n",
      "The given string is lowercase: False\n",
      "Enter the string##ertugg\n",
      "It contains alphabet and numbers\n",
      "The given string is uppercase: False\n",
      "The given string is lowercase: True\n",
      "Enter the string$#$TDDTYJ\n",
      "It contains alphabet and numbers\n",
      "The given string is uppercase: True\n",
      "The given string is lowercase: False\n",
      "Enter the string#$hdrtyg\n",
      "It contains alphabet and numbers\n",
      "The given string is uppercase: False\n",
      "The given string is lowercase: True\n",
      "Enter the stringytDCTUDTUD\n",
      "It contains full of alphabet\n",
      "The given string is uppercase: False\n",
      "The given string is lowercase: False\n"
     ]
    }
   ],
   "source": [
    "n= int(input(\"Enter number of strings you want check:\"))\n",
    "for i in range(0,n):\n",
    "    str3= input(\"Enter the string\")\n",
    "    if str3.isalpha():\n",
    "        print(\"It contains full of alphabet\")\n",
    "    elif str3.isdigit():\n",
    "        print(\"It contains full of numbers\")\n",
    "    else:\n",
    "        print(\"It contains alphabet and numbers\")\n",
    "    upr= str3.isupper()\n",
    "    print(\"The given string is uppercase:\",upr)\n",
    "    lwr= str3.islower()\n",
    "    print(\"The given string is lowercase:\",lwr)"
   ]
  }
 ],
 "metadata": {
  "kernelspec": {
   "display_name": "Python 3",
   "language": "python",
   "name": "python3"
  },
  "language_info": {
   "codemirror_mode": {
    "name": "ipython",
    "version": 3
   },
   "file_extension": ".py",
   "mimetype": "text/x-python",
   "name": "python",
   "nbconvert_exporter": "python",
   "pygments_lexer": "ipython3",
   "version": "3.7.6"
  }
 },
 "nbformat": 4,
 "nbformat_minor": 4
}
